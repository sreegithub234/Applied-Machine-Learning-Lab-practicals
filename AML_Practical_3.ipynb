{
  "nbformat": 4,
  "nbformat_minor": 0,
  "metadata": {
    "colab": {
      "provenance": []
    },
    "kernelspec": {
      "name": "python3",
      "display_name": "Python 3"
    },
    "language_info": {
      "name": "python"
    }
  },
  "cells": [
    {
      "cell_type": "markdown",
      "source": [
        "3. Evaluation of ANOVA and F-Test for Regression\n",
        "\n",
        "**Scenario-based Question:**\n",
        "A university wants to check if study hours significantly explain the variation in student exam scores. Perform ANOVA and F-Test for the regression model."
      ],
      "metadata": {
        "id": "6gNTplmJek7s"
      }
    },
    {
      "cell_type": "code",
      "execution_count": 1,
      "metadata": {
        "id": "9M8T0pciekF9"
      },
      "outputs": [],
      "source": [
        "import numpy as np\n",
        "import pandas as pd\n",
        "import statsmodels.api as sm\n",
        "import statsmodels.formula.api as smf"
      ]
    },
    {
      "cell_type": "code",
      "source": [
        "# Dataset\n",
        "study_hours = np.array([1, 2, 3, 4, 5, 6, 7])\n",
        "exam_scores = np.array([50, 55, 65, 70, 75, 80, 88])"
      ],
      "metadata": {
        "id": "kIRadukmepB3"
      },
      "execution_count": 2,
      "outputs": []
    },
    {
      "cell_type": "code",
      "source": [
        "# Put into DataFrame for formula API\n",
        "df = pd.DataFrame({\n",
        "    \"hours\": study_hours,\n",
        "    \"score\": exam_scores\n",
        "})"
      ],
      "metadata": {
        "id": "D78Cj8b7epEz"
      },
      "execution_count": 3,
      "outputs": []
    },
    {
      "cell_type": "code",
      "source": [
        "# Fit model using formula API\n",
        "model = smf.ols(\"score ~ hours\", data=df).fit()"
      ],
      "metadata": {
        "id": "syoOVjK0epHr"
      },
      "execution_count": 4,
      "outputs": []
    },
    {
      "cell_type": "code",
      "source": [
        "print(model.summary())"
      ],
      "metadata": {
        "colab": {
          "base_uri": "https://localhost:8080/"
        },
        "id": "R4hNdSFRepKw",
        "outputId": "a8062454-a772-45dd-ae9e-8151aeb32711"
      },
      "execution_count": 5,
      "outputs": [
        {
          "output_type": "stream",
          "name": "stdout",
          "text": [
            "                            OLS Regression Results                            \n",
            "==============================================================================\n",
            "Dep. Variable:                  score   R-squared:                       0.990\n",
            "Model:                            OLS   Adj. R-squared:                  0.988\n",
            "Method:                 Least Squares   F-statistic:                     504.6\n",
            "Date:                Mon, 01 Sep 2025   Prob (F-statistic):           3.25e-06\n",
            "Time:                        13:58:00   Log-Likelihood:                -11.422\n",
            "No. Observations:                   7   AIC:                             26.84\n",
            "Df Residuals:                       5   BIC:                             26.74\n",
            "Df Model:                           1                                         \n",
            "Covariance Type:            nonrobust                                         \n",
            "==============================================================================\n",
            "                 coef    std err          t      P>|t|      [0.025      0.975]\n",
            "------------------------------------------------------------------------------\n",
            "Intercept     44.1429      1.237     35.680      0.000      40.963      47.323\n",
            "hours          6.2143      0.277     22.463      0.000       5.503       6.925\n",
            "==============================================================================\n",
            "Omnibus:                          nan   Durbin-Watson:                   2.186\n",
            "Prob(Omnibus):                    nan   Jarque-Bera (JB):                0.378\n",
            "Skew:                           0.381   Prob(JB):                        0.828\n",
            "Kurtosis:                       2.155   Cond. No.                         10.4\n",
            "==============================================================================\n",
            "\n",
            "Notes:\n",
            "[1] Standard Errors assume that the covariance matrix of the errors is correctly specified.\n"
          ]
        },
        {
          "output_type": "stream",
          "name": "stderr",
          "text": [
            "/usr/local/lib/python3.12/dist-packages/statsmodels/stats/stattools.py:74: ValueWarning: omni_normtest is not valid with less than 8 observations; 7 samples were given.\n",
            "  warn(\"omni_normtest is not valid with less than 8 observations; %i \"\n"
          ]
        }
      ]
    },
    {
      "cell_type": "code",
      "source": [
        "# ANOVA Table\n",
        "anova_table = sm.stats.anova_lm(model, typ=2)"
      ],
      "metadata": {
        "id": "-PWettfwepNk"
      },
      "execution_count": 6,
      "outputs": []
    },
    {
      "cell_type": "code",
      "source": [
        "print(model.summary())"
      ],
      "metadata": {
        "colab": {
          "base_uri": "https://localhost:8080/"
        },
        "id": "_cbKawyFfOYA",
        "outputId": "5fa0e0b9-3021-46bf-dc3c-4bc0ebd0877f"
      },
      "execution_count": 7,
      "outputs": [
        {
          "output_type": "stream",
          "name": "stdout",
          "text": [
            "                            OLS Regression Results                            \n",
            "==============================================================================\n",
            "Dep. Variable:                  score   R-squared:                       0.990\n",
            "Model:                            OLS   Adj. R-squared:                  0.988\n",
            "Method:                 Least Squares   F-statistic:                     504.6\n",
            "Date:                Mon, 01 Sep 2025   Prob (F-statistic):           3.25e-06\n",
            "Time:                        13:58:04   Log-Likelihood:                -11.422\n",
            "No. Observations:                   7   AIC:                             26.84\n",
            "Df Residuals:                       5   BIC:                             26.74\n",
            "Df Model:                           1                                         \n",
            "Covariance Type:            nonrobust                                         \n",
            "==============================================================================\n",
            "                 coef    std err          t      P>|t|      [0.025      0.975]\n",
            "------------------------------------------------------------------------------\n",
            "Intercept     44.1429      1.237     35.680      0.000      40.963      47.323\n",
            "hours          6.2143      0.277     22.463      0.000       5.503       6.925\n",
            "==============================================================================\n",
            "Omnibus:                          nan   Durbin-Watson:                   2.186\n",
            "Prob(Omnibus):                    nan   Jarque-Bera (JB):                0.378\n",
            "Skew:                           0.381   Prob(JB):                        0.828\n",
            "Kurtosis:                       2.155   Cond. No.                         10.4\n",
            "==============================================================================\n",
            "\n",
            "Notes:\n",
            "[1] Standard Errors assume that the covariance matrix of the errors is correctly specified.\n"
          ]
        },
        {
          "output_type": "stream",
          "name": "stderr",
          "text": [
            "/usr/local/lib/python3.12/dist-packages/statsmodels/stats/stattools.py:74: ValueWarning: omni_normtest is not valid with less than 8 observations; 7 samples were given.\n",
            "  warn(\"omni_normtest is not valid with less than 8 observations; %i \"\n"
          ]
        }
      ]
    },
    {
      "cell_type": "code",
      "source": [
        "print(\"\\nANOVA Table:\\n\", anova_table)"
      ],
      "metadata": {
        "colab": {
          "base_uri": "https://localhost:8080/"
        },
        "id": "kM-8vGtofOfz",
        "outputId": "6350c602-0726-4886-e045-be02eb9c7269"
      },
      "execution_count": 8,
      "outputs": [
        {
          "output_type": "stream",
          "name": "stdout",
          "text": [
            "\n",
            "ANOVA Table:\n",
            "                sum_sq   df      F    PR(>F)\n",
            "hours     1081.285714  1.0  504.6  0.000003\n",
            "Residual    10.714286  5.0    NaN       NaN\n"
          ]
        }
      ]
    }
  ]
}