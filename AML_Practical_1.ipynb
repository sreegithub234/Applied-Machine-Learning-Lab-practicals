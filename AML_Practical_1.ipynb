{
  "nbformat": 4,
  "nbformat_minor": 0,
  "metadata": {
    "colab": {
      "provenance": []
    },
    "kernelspec": {
      "name": "python3",
      "display_name": "Python 3"
    },
    "language_info": {
      "name": "python"
    }
  },
  "cells": [
    {
      "cell_type": "markdown",
      "source": [
        "1. Evaluation of Statistical Measures in Machine Learning\n",
        "\n",
        "**Scenario-based Question:**\n",
        "A retail company wants to evaluate the performance of its sales prediction model. They predicted sales for 10 stores, but actual sales are different. Using statistical error measures, evaluate the model’s performance."
      ],
      "metadata": {
        "id": "R1BpKf5Ddsyr"
      }
    },
    {
      "cell_type": "code",
      "execution_count": 1,
      "metadata": {
        "id": "EzA0Hay5doDL"
      },
      "outputs": [],
      "source": [
        "import numpy as np\n",
        "from sklearn.metrics import mean_squared_error, mean_absolute_error, r2_score\n"
      ]
    },
    {
      "cell_type": "code",
      "source": [
        "# Actual and Predicted Sales\n",
        "actual_sales = np.array([200, 220, 250, 270, 300, 320, 340, 360, 380, 400])\n",
        "predicted_sales = np.array([210, 215, 245, 280, 295, 310, 345, 355, 390, 405])\n"
      ],
      "metadata": {
        "id": "AksarvXjd0IE"
      },
      "execution_count": 2,
      "outputs": []
    },
    {
      "cell_type": "code",
      "source": [
        "# Statistical Measures\n",
        "mse = mean_squared_error(actual_sales, predicted_sales)\n",
        "mae = mean_absolute_error(actual_sales, predicted_sales)\n",
        "rmse = np.sqrt(mse)\n",
        "r2 = r2_score(actual_sales, predicted_sales)\n"
      ],
      "metadata": {
        "id": "Dj4Lphejd0LM"
      },
      "execution_count": 3,
      "outputs": []
    },
    {
      "cell_type": "code",
      "source": [
        "print(\"Mean Squared Error (MSE):\", mse)\n",
        "print(\"Mean Absolute Error (MAE):\", mae)\n",
        "print(\"Root Mean Squared Error (RMSE):\", rmse)\n",
        "print(\"R-Squared (R²):\", r2)"
      ],
      "metadata": {
        "colab": {
          "base_uri": "https://localhost:8080/"
        },
        "id": "1ug1hvznd0Oe",
        "outputId": "623d5b04-f990-484f-c8ee-cb282ba5420f"
      },
      "execution_count": 4,
      "outputs": [
        {
          "output_type": "stream",
          "name": "stdout",
          "text": [
            "Mean Squared Error (MSE): 55.0\n",
            "Mean Absolute Error (MAE): 7.0\n",
            "Root Mean Squared Error (RMSE): 7.416198487095663\n",
            "R-Squared (R²): 0.9867915465898175\n"
          ]
        }
      ]
    }
  ]
}