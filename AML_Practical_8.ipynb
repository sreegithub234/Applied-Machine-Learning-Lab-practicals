{
  "nbformat": 4,
  "nbformat_minor": 0,
  "metadata": {
    "colab": {
      "provenance": []
    },
    "kernelspec": {
      "name": "python3",
      "display_name": "Python 3"
    },
    "language_info": {
      "name": "python"
    }
  },
  "cells": [
    {
      "cell_type": "markdown",
      "source": [
        "Estimation of σ² in Multiple Regression:\n",
        "\n",
        "**Scenario based question:**\n",
        "\n",
        "A manufacturing company wants to predict the production cost of a factory based on:\n",
        "\n",
        "-Labor hours\n",
        "\n",
        "-Raw material cost\n",
        "\n",
        "-Machine working hours\n",
        "\n",
        "They collect data from 8 factories. After fitting a multiple regression model, the company wants to estimate σ² (variance of error term) to measure how well the model explains the data."
      ],
      "metadata": {
        "id": "3NS1chj_lWCO"
      }
    },
    {
      "cell_type": "code",
      "execution_count": 1,
      "metadata": {
        "id": "JAXmZmIblVbP"
      },
      "outputs": [],
      "source": [
        "import numpy as np\n",
        "import pandas as pd\n",
        "import statsmodels.api as sm"
      ]
    },
    {
      "cell_type": "code",
      "source": [
        "# Sample dataset\n",
        "data = {\n",
        "    \"labor_hours\": [40, 42, 38, 50, 48, 55, 60, 62],\n",
        "    \"material_cost\": [200, 220, 210, 250, 240, 270, 300, 310],\n",
        "    \"machine_hours\": [15, 18, 16, 20, 22, 25, 28, 30],\n",
        "    \"production_cost\": [500, 520, 510, 580, 600, 640, 700, 720]\n",
        "}"
      ],
      "metadata": {
        "id": "PxCeqvcKloAy"
      },
      "execution_count": 2,
      "outputs": []
    },
    {
      "cell_type": "code",
      "source": [
        "df = pd.DataFrame(data)"
      ],
      "metadata": {
        "id": "5iv5E0uDloD0"
      },
      "execution_count": 3,
      "outputs": []
    },
    {
      "cell_type": "code",
      "source": [
        "# Independent (X) and Dependent (y) variables\n",
        "X = df[[\"labor_hours\", \"material_cost\", \"machine_hours\"]]\n",
        "y = df[\"production_cost\"]"
      ],
      "metadata": {
        "id": "EKalsbMbloGp"
      },
      "execution_count": 4,
      "outputs": []
    },
    {
      "cell_type": "code",
      "source": [
        "# Add constant (intercept term)\n",
        "X = sm.add_constant(X)"
      ],
      "metadata": {
        "id": "ZF0cwIp5loJd"
      },
      "execution_count": 5,
      "outputs": []
    },
    {
      "cell_type": "code",
      "source": [
        "# Fit the model\n",
        "model = sm.OLS(y, X).fit()"
      ],
      "metadata": {
        "id": "QAEOXzQmloMI"
      },
      "execution_count": 6,
      "outputs": []
    },
    {
      "cell_type": "code",
      "source": [
        "# Residuals\n",
        "residuals = model.resid\n",
        "n = len(y)          # number of observations\n",
        "k = X.shape[1] - 1  # number of predictors"
      ],
      "metadata": {
        "id": "ypbP5KVLlvcv"
      },
      "execution_count": 7,
      "outputs": []
    },
    {
      "cell_type": "code",
      "source": [
        "# Estimate of σ² = SSE / (n - k - 1)\n",
        "SSE = np.sum(residuals**2)\n",
        "sigma_squared = SSE / (n - k - 1)"
      ],
      "metadata": {
        "id": "PEyoxSC6lvfx"
      },
      "execution_count": 8,
      "outputs": []
    },
    {
      "cell_type": "code",
      "source": [
        "print(model.summary())"
      ],
      "metadata": {
        "colab": {
          "base_uri": "https://localhost:8080/"
        },
        "id": "NUe64ejelvi0",
        "outputId": "bebd65ae-a48f-4d93-c833-c26d0008b9c7"
      },
      "execution_count": 9,
      "outputs": [
        {
          "output_type": "stream",
          "name": "stdout",
          "text": [
            "                            OLS Regression Results                            \n",
            "==============================================================================\n",
            "Dep. Variable:        production_cost   R-squared:                       0.992\n",
            "Model:                            OLS   Adj. R-squared:                  0.986\n",
            "Method:                 Least Squares   F-statistic:                     168.7\n",
            "Date:                Mon, 01 Sep 2025   Prob (F-statistic):           0.000115\n",
            "Time:                        14:03:41   Log-Likelihood:                -26.982\n",
            "No. Observations:                   8   AIC:                             61.96\n",
            "Df Residuals:                       4   BIC:                             62.28\n",
            "Df Model:                           3                                         \n",
            "Covariance Type:            nonrobust                                         \n",
            "=================================================================================\n",
            "                    coef    std err          t      P>|t|      [0.025      0.975]\n",
            "---------------------------------------------------------------------------------\n",
            "const           204.7142     52.206      3.921      0.017      59.768     349.660\n",
            "labor_hours       2.2005      2.826      0.779      0.480      -5.645      10.046\n",
            "material_cost     0.2884      0.749      0.385      0.720      -1.792       2.369\n",
            "machine_hours     9.6908      4.017      2.412      0.073      -1.463      20.844\n",
            "==============================================================================\n",
            "Omnibus:                        3.507   Durbin-Watson:                   3.178\n",
            "Prob(Omnibus):                  0.173   Jarque-Bera (JB):                1.300\n",
            "Skew:                          -0.986   Prob(JB):                        0.522\n",
            "Kurtosis:                       2.897   Cond. No.                     3.84e+03\n",
            "==============================================================================\n",
            "\n",
            "Notes:\n",
            "[1] Standard Errors assume that the covariance matrix of the errors is correctly specified.\n",
            "[2] The condition number is large, 3.84e+03. This might indicate that there are\n",
            "strong multicollinearity or other numerical problems.\n"
          ]
        }
      ]
    },
    {
      "cell_type": "code",
      "source": [
        "print(\"\\nSum of Squared Errors (SSE):\", round(SSE, 3))\n",
        "print(\"Estimated σ²:\", round(sigma_squared, 3))"
      ],
      "metadata": {
        "colab": {
          "base_uri": "https://localhost:8080/"
        },
        "id": "K3CbPSXxlvlY",
        "outputId": "a47962fa-53ed-4124-80ca-73e2388065d3"
      },
      "execution_count": 10,
      "outputs": [
        {
          "output_type": "stream",
          "name": "stdout",
          "text": [
            "\n",
            "Sum of Squared Errors (SSE): 398.217\n",
            "Estimated σ²: 99.554\n"
          ]
        }
      ]
    }
  ]
}