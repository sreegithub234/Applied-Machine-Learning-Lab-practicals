{
  "nbformat": 4,
  "nbformat_minor": 0,
  "metadata": {
    "colab": {
      "provenance": []
    },
    "kernelspec": {
      "name": "python3",
      "display_name": "Python 3"
    },
    "language_info": {
      "name": "python"
    }
  },
  "cells": [
    {
      "cell_type": "markdown",
      "source": [
        "4. Estimation of σ² and Interval Estimation\n",
        "\n",
        "**Scenario-based Question:**\n",
        "A quality control engineer measures the weights of tomato packets produced in a factory. The population variance is unknown. Estimate σ² and construct a 95% confidence interval for the mean."
      ],
      "metadata": {
        "id": "LF9cZCrqfZ8h"
      }
    },
    {
      "cell_type": "code",
      "execution_count": 1,
      "metadata": {
        "id": "JTBVEXrxfZlC"
      },
      "outputs": [],
      "source": [
        "import numpy as np\n",
        "import scipy.stats as stats"
      ]
    },
    {
      "cell_type": "code",
      "source": [
        "# Sample Data (weights in grams)\n",
        "weights = np.array([48, 50, 52, 47, 49, 51, 53, 50, 48, 52])"
      ],
      "metadata": {
        "id": "RjmAcIQ4fi6K"
      },
      "execution_count": 2,
      "outputs": []
    },
    {
      "cell_type": "code",
      "source": [
        "# Sample Mean and Variance\n",
        "mean = np.mean(weights)\n",
        "variance = np.var(weights, ddof=1)  # unbiased estimate\n",
        "n = len(weights)"
      ],
      "metadata": {
        "id": "CxML3HXJfi9b"
      },
      "execution_count": 3,
      "outputs": []
    },
    {
      "cell_type": "code",
      "source": [
        "# Confidence Interval for Mean (95%)\n",
        "alpha = 0.05\n",
        "t_critical = stats.t.ppf(1 - alpha/2, df=n-1)\n",
        "margin_of_error = t_critical * (np.sqrt(variance/n))\n",
        "ci_lower = mean - margin_of_error\n",
        "ci_upper = mean + margin_of_error"
      ],
      "metadata": {
        "id": "eSJEBZrVfjDb"
      },
      "execution_count": 4,
      "outputs": []
    },
    {
      "cell_type": "code",
      "source": [
        "print(\"Sample Variance (σ² estimate):\", variance)"
      ],
      "metadata": {
        "colab": {
          "base_uri": "https://localhost:8080/"
        },
        "id": "-mMYQb5AfjGj",
        "outputId": "28397153-fe06-42b7-99b1-675956e115fd"
      },
      "execution_count": 5,
      "outputs": [
        {
          "output_type": "stream",
          "name": "stdout",
          "text": [
            "Sample Variance (σ² estimate): 4.0\n"
          ]
        }
      ]
    },
    {
      "cell_type": "code",
      "source": [
        "print(\"95% Confidence Interval for Mean: (\", ci_lower, \",\", ci_upper, \")\")"
      ],
      "metadata": {
        "colab": {
          "base_uri": "https://localhost:8080/"
        },
        "id": "2N3NcxZXf8uW",
        "outputId": "c6c8e7d6-3da7-42e5-e429-b16eebc2c1b7"
      },
      "execution_count": 6,
      "outputs": [
        {
          "output_type": "stream",
          "name": "stdout",
          "text": [
            "95% Confidence Interval for Mean: ( 48.56928618802332 , 51.43071381197668 )\n"
          ]
        }
      ]
    }
  ]
}